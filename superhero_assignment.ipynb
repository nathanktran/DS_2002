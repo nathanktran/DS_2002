{
  "cells": [
    {
      "cell_type": "markdown",
      "metadata": {
        "id": "view-in-github"
      },
      "source": [
        "<a href=\"https://colab.research.google.com/github/fourfeatherz/DS2002S25/blob/main/python/superhero_assignment.ipynb\" target=\"_parent\"><img src=\"https://colab.research.google.com/assets/colab-badge.svg\" alt=\"Open In Colab\"/></a>"
      ],
      "id": "view-in-github"
    },
    {
      "cell_type": "markdown",
      "id": "5fa8dcf6",
      "metadata": {
        "id": "5fa8dcf6"
      },
      "source": [
        "# Superhero Database Assignment (SQLite & Google Colab)\n",
        "\n",
        "## Objective\n",
        "In this assignment, you will design and implement a **Superhero Database** using SQLite in Google Colab. This database will store superheroes, villains, and their battles. You will write SQL queries to analyze battle outcomes and relationships between heroes and villains.\n",
        "\n",
        "### Group Size:\n",
        "- 2 to 3 students per group.\n",
        "\n",
        "### Tools Required:\n",
        "- **Google Colab**\n",
        "- **SQLite (built into Python)**\n",
        "- **CSV files (provided for import)**"
      ]
    },
    {
      "cell_type": "markdown",
      "id": "5535e625",
      "metadata": {
        "id": "5535e625"
      },
      "source": [
        "## Step 1: Setting Up Your SQLite Database\n",
        "\n",
        "### Tasks:\n",
        "1. Initialize SQLite in Google Colab.\n",
        "2. Create a database named `superhero_db.sqlite`.\n",
        "3. Define the database schema, ensuring it includes the following tables:\n",
        "   - `heroes`: Stores superhero names, powers, and teams.\n",
        "   - `villains`: Stores villains and their evil plans.\n",
        "   - `battles`: Tracks battles between heroes and villains, including the outcome.\n",
        "4. Implement primary keys and foreign keys where appropriate.\n",
        "\n",
        "✅ **Checkpoint:** Ensure that the database and tables have been successfully created."
      ]
    },
    {
      "cell_type": "code",
      "source": [
        "import sqlite3\n",
        "\n",
        "connect = sqlite3.connect(\"superhero_db.sqlite\")\n",
        "cursor = connect.cursor()\n",
        "\n",
        "#Create heroes table, with id as primary key, a name, powers, and team\n",
        "cursor.execute('''\n",
        "CREATE TABLE IF NOT EXISTS heroes (\n",
        "    id INTEGER PRIMARY KEY AUTOINCREMENT,\n",
        "    name TEXT NOT NULL,\n",
        "    power TEXT NOT NULL,\n",
        "    team TEXT\n",
        ");\n",
        "''')\n",
        "\n",
        "#Create villains table, with id as primary key, a name, and evil plans\n",
        "cursor.execute('''\n",
        "CREATE TABLE IF NOT EXISTS villains (\n",
        "    id INTEGER PRIMARY KEY AUTOINCREMENT,\n",
        "    name TEXT NOT NULL,\n",
        "    evil_plan TEXT\n",
        ")\n",
        "''')\n",
        "\n",
        "#Create battles table, with id as primary key, hero id and villain id as foreign keys, and an outcome\n",
        "cursor.execute('''\n",
        "CREATE TABLE IF NOT EXISTS battles (\n",
        "    id INTEGER PRIMARY KEY AUTOINCREMENT,\n",
        "    hero_id INTEGER NOT NULL,\n",
        "    villain_id INTEGER NOT NULL,\n",
        "    outcome TEXT CHECK (outcome IN ('Hero Wins', 'Villain Wins', 'Draw')),\n",
        "    FOREIGN KEY (hero_id) REFERENCES heroes(id),\n",
        "    FOREIGN KEY (villain_id) REFERENCES villains(id)\n",
        ");\n",
        "''')"
      ],
      "metadata": {
        "colab": {
          "base_uri": "https://localhost:8080/"
        },
        "id": "C1pYb_nfLbh_",
        "outputId": "d898fe39-1a0f-47a5-d136-0b654ad61c04"
      },
      "id": "C1pYb_nfLbh_",
      "execution_count": 18,
      "outputs": [
        {
          "output_type": "execute_result",
          "data": {
            "text/plain": [
              "<sqlite3.Cursor at 0x7de332730940>"
            ]
          },
          "metadata": {},
          "execution_count": 18
        }
      ]
    },
    {
      "cell_type": "markdown",
      "id": "154b3c3a",
      "metadata": {
        "id": "154b3c3a"
      },
      "source": [
        "## Step 2: Import Data from CSV Files\n",
        "\n",
        "### Tasks:\n",
        "1. Download the provided CSV files.\n",
        "2. Upload them to Google Colab.\n",
        "3. Write a script to import data from these files into the appropriate tables.\n",
        "4. Verify that the data has been successfully inserted.\n",
        "\n",
        "✅ **Checkpoint:** Ensure that each table contains the expected data from the CSV files."
      ]
    },
    {
      "cell_type": "code",
      "source": [
        "import pandas as pd\n",
        "#Import heroes\n",
        "heroes_df = pd.read_csv(\"heroes.csv\")\n",
        "heroes_df.to_sql(\"heroes\", connect, if_exists=\"append\", index=False)\n",
        "#Import villains\n",
        "villains_df = pd.read_csv(\"villains.csv\")\n",
        "villains_df.to_sql(\"villains\", connect, if_exists=\"append\", index=False)\n",
        "#Import battles\n",
        "battles_df = pd.read_csv(\"battles.csv\")\n",
        "battles_df.to_sql(\"battles\", connect, if_exists=\"append\", index=False)"
      ],
      "metadata": {
        "colab": {
          "base_uri": "https://localhost:8080/"
        },
        "id": "8klEcAQdUOM5",
        "outputId": "636ef075-05fd-404a-e1c5-8b48919935c0"
      },
      "id": "8klEcAQdUOM5",
      "execution_count": 19,
      "outputs": [
        {
          "output_type": "execute_result",
          "data": {
            "text/plain": [
              "30"
            ]
          },
          "metadata": {},
          "execution_count": 19
        }
      ]
    },
    {
      "cell_type": "markdown",
      "id": "33548d9f",
      "metadata": {
        "id": "33548d9f"
      },
      "source": [
        "## Step 3: Querying the Database\n",
        "\n",
        "### Tasks:\n",
        "Write SQL queries to answer the following:\n",
        "1. Retrieve all superheroes and their powers.\n",
        "2. Find all battles where the hero won.\n",
        "3. List all villains and their evil plans.\n",
        "4. Determine which superhero has fought the most battles.\n",
        "\n",
        "✅ **Checkpoint:** Ensure that all queries return meaningful results from the database."
      ]
    },
    {
      "cell_type": "code",
      "source": [
        "#Retrieve all superheroes and their powers.\n",
        "query = \"SELECT name, power FROM heroes\"\n",
        "print(pd.read_sql(query, connect))\n",
        "#Find all battles where the hero won.\n",
        "query = \"SELECT * FROM battles WHERE outcome = 'Hero Wins'\"\n",
        "print(pd.read_sql(query, connect))\n",
        "#List all villains and their evil plans.\n",
        "query = \"SELECT name, evil_plan FROM villains\"\n",
        "print(pd.read_sql(query, connect))\n",
        "#Determine which superhero has fought the most battles.\n",
        "query = \"\"\"\n",
        "SELECT h.name, COUNT(b.id) AS battle_count FROM battles b\n",
        "JOIN heroes h ON b.hero_id = h.id\n",
        "GROUP BY h.name\n",
        "ORDER BY battle_count DESC\n",
        "LIMIT 1\n",
        "\"\"\"\n",
        "print(pd.read_sql(query, connect))"
      ],
      "metadata": {
        "colab": {
          "base_uri": "https://localhost:8080/"
        },
        "id": "sZvwczq-fMNy",
        "outputId": "4ec1588f-7fa4-4696-d59b-17a3ef264114"
      },
      "id": "sZvwczq-fMNy",
      "execution_count": 21,
      "outputs": [
        {
          "output_type": "stream",
          "name": "stdout",
          "text": [
            "             name               power\n",
            "0      Spider-Man        Web-slinging\n",
            "1        Iron Man       Powered Armor\n",
            "2          Batman    Genius Detective\n",
            "3        Superman      Super Strength\n",
            "4            Thor      God of Thunder\n",
            "5    Wonder Woman  Amazonian Strength\n",
            "6   Black Panther    Enhanced Agility\n",
            "7       The Flash         Super Speed\n",
            "8            Hulk      Super Strength\n",
            "9  Doctor Strange         Mystic Arts\n",
            "   id  hero_id  villain_id    outcome\n",
            "0   2        9           3  Hero Wins\n",
            "1   5        1           7  Hero Wins\n",
            "2   7        9           8  Hero Wins\n",
            "3   8        3           2  Hero Wins\n",
            "4   9        7           5  Hero Wins\n",
            "5  13        8           9  Hero Wins\n",
            "6  20        3           4  Hero Wins\n",
            "7  29        3           5  Hero Wins\n",
            "8  30        5           5  Hero Wins\n",
            "           name                           evil_plan\n",
            "0  Green Goblin                  Terrorize New York\n",
            "1        Thanos         Collect all Infinity Stones\n",
            "2         Joker              Spread chaos in Gotham\n",
            "3    Lex Luthor                     Defeat Superman\n",
            "4          Loki  Trick humanity into worshiping him\n",
            "5        Ultron                 AI world domination\n",
            "6      Darkseid                Control the universe\n",
            "7         Venom                  Consume Spider-Man\n",
            "8       Magneto                    Mutant supremacy\n",
            "9     Red Skull                        Revive Hydra\n",
            "     name  battle_count\n",
            "0  Batman             7\n"
          ]
        }
      ]
    },
    {
      "cell_type": "markdown",
      "id": "de8bda94",
      "metadata": {
        "id": "de8bda94"
      },
      "source": [
        "## Step 4: Add a Custom Feature\n",
        "\n",
        "### Tasks:\n",
        "1. Design and implement an additional table related to superheroes or villains.\n",
        "2. Populate it with data.\n",
        "3. Write at least one query to retrieve meaningful insights from the new table.\n",
        "\n",
        "**Examples of Custom Features:**\n",
        "- Sidekicks for superheroes\n",
        "- Villain hideouts\n",
        "- Battle locations\n",
        "- Superhero equipment\n",
        "\n",
        "✅ **Checkpoint:** Ensure that the new table and queries function correctly."
      ]
    },
    {
      "cell_type": "code",
      "source": [
        "#Create sidekicks table, with id as primary key, hero id as foreign keys, and a name\n",
        "cursor.execute('''\n",
        "CREATE TABLE IF NOT EXISTS sidekicks (\n",
        "    id INTEGER PRIMARY KEY AUTOINCREMENT,\n",
        "    hero_id INTEGER,\n",
        "    sidekick_name TEXT NOT NULL,\n",
        "    FOREIGN KEY (hero_id) REFERENCES heroes(id)\n",
        ")\n",
        "''')\n",
        "\n",
        "#Populate the sidekick table\n",
        "cursor.execute(\"INSERT INTO sidekicks (hero_id, sidekick_name) VALUES (1, 'Ned')\")\n",
        "cursor.execute(\"INSERT INTO sidekicks (hero_id, sidekick_name) VALUES (2, 'War Machine')\")\n",
        "cursor.execute(\"INSERT INTO sidekicks (hero_id, sidekick_name) VALUES (3, 'Robin')\")\n",
        "cursor.execute(\"INSERT INTO sidekicks (hero_id, sidekick_name) VALUES (3, 'Nightwing')\")\n",
        "cursor.execute(\"INSERT INTO sidekicks (hero_id, sidekick_name) VALUES (3, 'Red Robin')\")\n",
        "cursor.execute(\"INSERT INTO sidekicks (hero_id, sidekick_name) VALUES (4, 'Superboy')\")\n",
        "cursor.execute(\"INSERT INTO sidekicks (hero_id, sidekick_name) VALUES (6, 'Wonder Girl')\")\n",
        "cursor.execute(\"INSERT INTO sidekicks (hero_id, sidekick_name) VALUES (7, 'Shuri')\")\n",
        "cursor.execute(\"INSERT INTO sidekicks (hero_id, sidekick_name) VALUES (7, 'Okoye')\")\n",
        "cursor.execute(\"INSERT INTO sidekicks (hero_id, sidekick_name) VALUES (8, 'Kid Flash')\")\n",
        "cursor.execute(\"INSERT INTO sidekicks (hero_id, sidekick_name) VALUES (10, 'Wong')\")\n",
        "\n",
        "connect.commit()\n",
        "\n",
        "#List every sidekick and their respective hero\n",
        "query = \"\"\"\n",
        "SELECT heroes.name, sidekicks.sidekick_name FROM heroes\n",
        "JOIN sidekicks ON heroes.id = sidekicks.hero_id;\n",
        "\"\"\"\n",
        "print(pd.read_sql(query, connect))"
      ],
      "metadata": {
        "colab": {
          "base_uri": "https://localhost:8080/"
        },
        "id": "Gd3lesOTjAYt",
        "outputId": "09c839d0-0274-4538-f1f1-b213b8b21721"
      },
      "id": "Gd3lesOTjAYt",
      "execution_count": 30,
      "outputs": [
        {
          "output_type": "stream",
          "name": "stdout",
          "text": [
            "              name sidekick_name\n",
            "0       Spider-Man           Ned\n",
            "1         Iron Man   War Machine\n",
            "2           Batman         Robin\n",
            "3           Batman     Nightwing\n",
            "4           Batman     Red Robin\n",
            "5         Superman      Superboy\n",
            "6     Wonder Woman   Wonder Girl\n",
            "7    Black Panther         Shuri\n",
            "8    Black Panther         Okoye\n",
            "9        The Flash     Kid Flash\n",
            "10  Doctor Strange          Wong\n"
          ]
        }
      ]
    },
    {
      "cell_type": "markdown",
      "id": "9bf43fe6",
      "metadata": {
        "id": "9bf43fe6"
      },
      "source": [
        "## Bonus Challenge (+5 Points)\n",
        "\n",
        "### Tasks:\n",
        "1. Enhance your project by adding a visual or interactive component.\n",
        "\n",
        "**Options:**\n",
        "- Visualize battles using Matplotlib (e.g., a bar chart showing how many battles each superhero has fought).\n",
        "- Make it interactive (e.g., allow users to input a superhero name and display their battles).\n",
        "\n",
        "✅ **Checkpoint:** If attempting the bonus, ensure that your visualization or interactive component works correctly."
      ]
    },
    {
      "cell_type": "code",
      "source": [
        "import matplotlib.pyplot as plt\n",
        "\n",
        "query = \"\"\"\n",
        "SELECT h.name, COUNT(b.id) AS battle_count FROM battles b\n",
        "JOIN heroes h ON b.hero_id = h.id\n",
        "GROUP BY h.name\n",
        "ORDER BY battle_count DESC\n",
        "\"\"\"\n",
        "df = pd.read_sql(query, connect)\n",
        "\n",
        "plt.figure(figsize=(10, 5))\n",
        "plt.bar(df[\"name\"], df[\"battle_count\"])\n",
        "plt.xlabel(\"Hero\")\n",
        "plt.ylabel(\"Battle Count\")\n",
        "plt.title(\"Battles Per Hero\")\n",
        "plt.xticks(rotation=45)\n",
        "plt.show()"
      ],
      "metadata": {
        "colab": {
          "base_uri": "https://localhost:8080/",
          "height": 561
        },
        "id": "jqKr0a13orNL",
        "outputId": "bf9cdfd8-040e-4d71-c968-c332fdeb3efc"
      },
      "id": "jqKr0a13orNL",
      "execution_count": 52,
      "outputs": [
        {
          "output_type": "display_data",
          "data": {
            "text/plain": [
              "<Figure size 1000x500 with 1 Axes>"
            ],
            "image/png": "[encoded data removed]"
          },
          "metadata": {}
        }
      ]
    },
    {
      "cell_type": "markdown",
      "id": "89f56c05",
      "metadata": {
        "id": "89f56c05"
      },
      "source": [
        "## Submission Guidelines\n",
        "\n",
        "Each group must submit a **Google Colab Notebook (.ipynb)** containing:\n",
        "- ✅ **Database schema (DDL)**\n",
        "- ✅ **CSV imports & data insertion (DML)**\n",
        "- ✅ **SQL queries & results**\n",
        "- ✅ **Custom feature (bonus if applicable)**"
      ]
    },
    {
      "cell_type": "markdown",
      "id": "61477c9b",
      "metadata": {
        "id": "61477c9b"
      },
      "source": [
        "## Grading Criteria (Total: 25 Points)\n",
        "\n",
        "| Section                 | Points |\n",
        "|-------------------------|--------|\n",
        "| Database Setup          | 5      |\n",
        "| Data Importing         | 10     |\n",
        "| Querying the Data      | 10     |\n",
        "| Extra Feature          | 5      |\n",
        "| Bonus Challenge (Optional) | +5  |"
      ]
    },
    {
      "cell_type": "markdown",
      "id": "92bf6839",
      "metadata": {
        "id": "92bf6839"
      },
      "source": [
        "### Final Notes:\n",
        "- Be **creative** when designing superheroes and villains.\n",
        "- **Comment your code** to explain its functionality.\n",
        "- **Have fun** building your superhero universe!"
      ]
    }
  ],
  "metadata": {
    "colab": {
      "provenance": []
    },
    "language_info": {
      "name": "python"
    },
    "kernelspec": {
      "name": "python3",
      "display_name": "Python 3"
    }
  },
  "nbformat": 4,
  "nbformat_minor": 5
}